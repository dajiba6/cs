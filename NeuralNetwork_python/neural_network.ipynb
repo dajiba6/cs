{
 "cells": [
  {
   "cell_type": "code",
   "execution_count": 1,
   "id": "295b0633-9fa2-47a7-bcf8-e071c6a0d8e3",
   "metadata": {},
   "outputs": [],
   "source": [
    "import numpy\n",
    "# scipy.sepcial for the sigmoid function expit()\n",
    "import scipy.special\n",
    "# neural network class definition\n",
    "class neuralNetwork:\n",
    "    #initialise th neural network\n",
    "    def __init__(self,inputnodes,hiddennodes,outputnodes,learningrate):\n",
    "        self.inodes = inputnodes\n",
    "        self.hnodes = hiddennodes\n",
    "        self.onodes = outputnodes\n",
    "\n",
    "        self.lr = learningrate\n",
    "\n",
    "        #link weight matrices, wit and who\n",
    "        #weights inside the arrays are w_i_j, where link is from node i to node j in next layer\n",
    "        #w11 w21 etc\n",
    "        self.wih = (numpy.random.rand(self.hnodes,self.inodes)-0.5)\n",
    "        self.who = (numpy.random.rand(self.onodes,self.hnodes)-0.5)\n",
    "        self.activation_function = lambda x: scipy.special.expit(x)\n",
    "        pass\n",
    "        \n",
    "    #train the neural network\n",
    "    def train(self, input_list, targets_list):\n",
    "        inputs = numpy.array(inputs_list,ndmin=2).T\n",
    "        targets = numpy.array(targets_list,ndmin=2).T\n",
    "        hidden_inputs = numpy.dot(self.wih,inputs)\n",
    "        hidden_outputs = self.activation_function(hiden_inputs)\n",
    "        final_inputs = numpy.dot(self.who,hidden_outputs)\n",
    "        final_outputs = self.activation_function(final_inputs)\n",
    "        \n",
    "        #calculate error\n",
    "        output_errors = targets - final_outputs\n",
    "\n",
    "        #hidden layer error is the output_errors, split by weights, recombined at hidden notes\n",
    "        hidden_errors = numpy.dot(self.who.T, output_errors)\n",
    "        pass\n",
    "        \n",
    "    #query the neural network\n",
    "    def query(self,inputs_lists):\n",
    "        inputs = numpy.array(inputs_lists,ndmin=2).T\n",
    "        hidden_inputs = numpy.dot(self.wih,inputs)\n",
    "        hidden_outputs = self.activation_function(hiden_inputs)\n",
    "        final_inputs = numpy.dot(self.who,hidden_outputs)\n",
    "        final_outputs = self.activation_function(final_inputs)\n",
    "        return final_outputs"
   ]
  },
  {
   "cell_type": "code",
   "execution_count": 2,
   "id": "4acf72e3-b636-4ba5-ac06-0928aecebcdd",
   "metadata": {},
   "outputs": [],
   "source": [
    "input_nodes = 3\n",
    "hidden_nodes = 3\n",
    "output_nodes = 3\n",
    "\n",
    "learning_rate = 0.5\n",
    "\n",
    "n = neuralNetwork(input_nodes,hidden_nodes,output_nodes,learning_rate)\n"
   ]
  },
  {
   "cell_type": "code",
   "execution_count": 3,
   "id": "0572d318-8afa-48b6-b85a-0c8431113d66",
   "metadata": {},
   "outputs": [
    {
     "ename": "NameError",
     "evalue": "name 'hiden_inputs' is not defined",
     "output_type": "error",
     "traceback": [
      "\u001b[0;31m---------------------------------------------------------------------------\u001b[0m",
      "\u001b[0;31mNameError\u001b[0m                                 Traceback (most recent call last)",
      "Cell \u001b[0;32mIn[3], line 1\u001b[0m\n\u001b[0;32m----> 1\u001b[0m \u001b[43mn\u001b[49m\u001b[38;5;241;43m.\u001b[39;49m\u001b[43mquery\u001b[49m\u001b[43m(\u001b[49m\u001b[43m[\u001b[49m\u001b[38;5;241;43m1\u001b[39;49m\u001b[43m,\u001b[49m\u001b[38;5;241;43m1.5\u001b[39;49m\u001b[43m,\u001b[49m\u001b[38;5;241;43m0\u001b[39;49m\u001b[43m]\u001b[49m\u001b[43m)\u001b[49m\n",
      "Cell \u001b[0;32mIn[1], line 42\u001b[0m, in \u001b[0;36mneuralNetwork.query\u001b[0;34m(self, inputs_lists)\u001b[0m\n\u001b[1;32m     40\u001b[0m inputs \u001b[38;5;241m=\u001b[39m numpy\u001b[38;5;241m.\u001b[39marray(inputs_lists,ndmin\u001b[38;5;241m=\u001b[39m\u001b[38;5;241m2\u001b[39m)\u001b[38;5;241m.\u001b[39mT\n\u001b[1;32m     41\u001b[0m hidden_inputs \u001b[38;5;241m=\u001b[39m numpy\u001b[38;5;241m.\u001b[39mdot(\u001b[38;5;28mself\u001b[39m\u001b[38;5;241m.\u001b[39mwih,inputs)\n\u001b[0;32m---> 42\u001b[0m hidden_outputs \u001b[38;5;241m=\u001b[39m \u001b[38;5;28mself\u001b[39m\u001b[38;5;241m.\u001b[39mactivation_function(\u001b[43mhiden_inputs\u001b[49m)\n\u001b[1;32m     43\u001b[0m final_inputs \u001b[38;5;241m=\u001b[39m numpy\u001b[38;5;241m.\u001b[39mdot(\u001b[38;5;28mself\u001b[39m\u001b[38;5;241m.\u001b[39mwho,hidden_outputs)\n\u001b[1;32m     44\u001b[0m final_outputs \u001b[38;5;241m=\u001b[39m \u001b[38;5;28mself\u001b[39m\u001b[38;5;241m.\u001b[39mactivation_function(final_inputs)\n",
      "\u001b[0;31mNameError\u001b[0m: name 'hiden_inputs' is not defined"
     ]
    }
   ],
   "source": [
    "n.query([1,1.5,0])\n"
   ]
  },
  {
   "cell_type": "code",
   "execution_count": null,
   "id": "e3aa3a14-16f4-4640-8e39-8a796d6e2d59",
   "metadata": {},
   "outputs": [],
   "source": []
  }
 ],
 "metadata": {
  "kernelspec": {
   "display_name": "Python 3 (ipykernel)",
   "language": "python",
   "name": "python3"
  },
  "language_info": {
   "codemirror_mode": {
    "name": "ipython",
    "version": 3
   },
   "file_extension": ".py",
   "mimetype": "text/x-python",
   "name": "python",
   "nbconvert_exporter": "python",
   "pygments_lexer": "ipython3",
   "version": "3.8.10"
  }
 },
 "nbformat": 4,
 "nbformat_minor": 5
}
