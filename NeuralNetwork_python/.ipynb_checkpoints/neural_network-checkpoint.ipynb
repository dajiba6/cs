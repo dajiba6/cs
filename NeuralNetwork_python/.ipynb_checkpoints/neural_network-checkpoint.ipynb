{
 "cells": [
  {
   "cell_type": "code",
   "execution_count": 8,
   "id": "295b0633-9fa2-47a7-bcf8-e071c6a0d8e3",
   "metadata": {},
   "outputs": [],
   "source": [
    "import numpy\n",
    "# scipy.sepcial for the sigmoid function expit()\n",
    "import scipy.special\n",
    "# neural network class definition\n",
    "class neuralNetwork:\n",
    "    #initialise th neural network\n",
    "    def __init__(self,inputnodes,hiddennodes,outputnodes,learningrate):\n",
    "        self.inodes = inputnodes\n",
    "        self.hnodes = hiddennodes\n",
    "        self.onodes = outputnodes\n",
    "\n",
    "        self.lr = learningrate\n",
    "\n",
    "        #link weight matrices, wit and who\n",
    "        #weights inside the arrays are w_i_j, where link is from node i to node j in next layer\n",
    "        #w11 w21 etc\n",
    "        self.wih = (numpy.random.rand(self.hnodes,self.inodes)-0.5)\n",
    "        self.who = (numpy.random.rand(self.onodes,self.hnodes)-0.5)\n",
    "        self.activation_function = lambda x: scipy.special.expit(x)\n",
    "        pass\n",
    "        \n",
    "    #train the neural network\n",
    "    def train(self, input_list, targets_list):\n",
    "        inputs = numpy.array(inputs_list,ndmin=2).T\n",
    "        targets = numpy.array(targets_list,ndmin=2).T\n",
    "        hidden_inputs = numpy.dot(self.wih,inputs)\n",
    "        hidden_outputs = self.activation_function(hidden_inputs)\n",
    "        final_inputs = numpy.dot(self.who,hidden_outputs)\n",
    "        final_outputs = self.activation_function(final_inputs)\n",
    "        \n",
    "        #calculate error. this is colum vec\n",
    "        output_errors = targets - final_outputs\n",
    "\n",
    "        #hidden layer error is the output_errors, split by weights, recombined at hidden notes\n",
    "        hidden_errors = numpy.dot(self.who.T, output_errors)\n",
    "\n",
    "        #update the weights for the links between the hidden and output layers\n",
    "        delta_w = numpy.dot(self.lr * output_errors * final_outputs * (1 - final_outputs),numpy.transpose(output_errors))\n",
    "        pass\n",
    "        \n",
    "    #query the neural network\n",
    "    def query(self,inputs_lists):\n",
    "        inputs = numpy.array(inputs_lists,ndmin=2).T\n",
    "        hidden_inputs = numpy.dot(self.wih,inputs)\n",
    "        hidden_outputs = self.activation_function(hidden_inputs)\n",
    "        final_inputs = numpy.dot(self.who,hidden_outputs)\n",
    "        final_outputs = self.activation_function(final_inputs)\n",
    "        return final_outputs"
   ]
  },
  {
   "cell_type": "code",
   "execution_count": 9,
   "id": "4acf72e3-b636-4ba5-ac06-0928aecebcdd",
   "metadata": {},
   "outputs": [],
   "source": [
    "input_nodes = 3\n",
    "hidden_nodes = 3\n",
    "output_nodes = 3\n",
    "\n",
    "learning_rate = 0.5\n",
    "\n",
    "n = neuralNetwork(input_nodes,hidden_nodes,output_nodes,learning_rate)\n"
   ]
  },
  {
   "cell_type": "code",
   "execution_count": 10,
   "id": "0572d318-8afa-48b6-b85a-0c8431113d66",
   "metadata": {},
   "outputs": [
    {
     "name": "stdout",
     "output_type": "stream",
     "text": [
      "[[0.57267727]\n",
      " [0.59492488]\n",
      " [0.48070175]]\n"
     ]
    },
    {
     "data": {
      "text/plain": [
       "array([[0.57267727],\n",
       "       [0.59492488],\n",
       "       [0.48070175]])"
      ]
     },
     "execution_count": 10,
     "metadata": {},
     "output_type": "execute_result"
    }
   ],
   "source": [
    "n.query([1,1.5,0])\n"
   ]
  },
  {
   "cell_type": "code",
   "execution_count": null,
   "id": "e3aa3a14-16f4-4640-8e39-8a796d6e2d59",
   "metadata": {},
   "outputs": [],
   "source": []
  }
 ],
 "metadata": {
  "kernelspec": {
   "display_name": "Python 3 (ipykernel)",
   "language": "python",
   "name": "python3"
  },
  "language_info": {
   "codemirror_mode": {
    "name": "ipython",
    "version": 3
   },
   "file_extension": ".py",
   "mimetype": "text/x-python",
   "name": "python",
   "nbconvert_exporter": "python",
   "pygments_lexer": "ipython3",
   "version": "3.8.10"
  }
 },
 "nbformat": 4,
 "nbformat_minor": 5
}
